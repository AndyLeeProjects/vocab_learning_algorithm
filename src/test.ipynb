{
 "cells": [
  {
   "cell_type": "code",
   "execution_count": 3,
   "metadata": {},
   "outputs": [
    {
     "data": {
      "text/plain": [
       "0"
      ]
     },
     "execution_count": 3,
     "metadata": {},
     "output_type": "execute_result"
    }
   ],
   "source": [
    "from sqlalchemy import create_engine, Float, text\n",
    "from db_connections import con\n",
    "import datetime\n",
    "from datetime import timezone, datetime\n",
    "\n",
    "import pandas as pd\n",
    "\n",
    "\n",
    "# Execute the SQL query\n",
    "result = con.execute(\"SELECT * FROM my_vocabs;\")\n",
    "\n",
    "# Fetch all the rows from the query result\n",
    "rows = result.fetchall()\n",
    "\n",
    "vocab_df = pd.DataFrame(columns=[\"vocab\", \"exposure\", \"status\", \"img_url1\", \"img_url2\", \"img_url3\", \"created_at_utc\", \"memorized_at_utc\"])\n",
    "\n",
    "vocab_df.to_sql('my_vocabs', con=con, if_exists='replace', index=False)"
   ]
  },
  {
   "cell_type": "code",
   "execution_count": 15,
   "metadata": {},
   "outputs": [
    {
     "data": {
      "text/plain": [
       "[['a rapid stream', 'rapid growth', 'rapid improvement']]"
      ]
     },
     "execution_count": 15,
     "metadata": {},
     "output_type": "execute_result"
    }
   ],
   "source": [
    "from secret import lingua_credentials\n",
    "import requests, json\n",
    "vocab = 'rapid'\n",
    "url = \"https://lingua-robot.p.rapidapi.com/language/v1/entries/en/\" + \\\n",
    "            vocab.lower().strip(' ')\n",
    "\n",
    "headers = {\n",
    "    \"X-RapidAPI-Key\": lingua_credentials(),\n",
    "    \"X-RapidAPI-Host\": \"lingua-robot.p.rapidapi.com\"\n",
    "}\n",
    "\n",
    "# Request Data\n",
    "response = requests.request(\"GET\", url, headers=headers)\n",
    "data = json.loads(response.text)\n",
    "data\n",
    "data['entries'][0]['lexemes']\n",
    "\n",
    "try:\n",
    "    vocab_dat = data['entries'][0]['lexemes']\n",
    "except IndexError:\n",
    "    vocab_dat = None\n",
    "    definitions = None\n",
    "    synonyms = None\n",
    "    examples = None\n",
    "\n",
    "if vocab_dat != None:\n",
    "    # GET DEFINITIONS\n",
    "    # try: If the definition is not in Lingua Dictionary, output None\n",
    "\n",
    "    definitions = [vocab_dat[j]['senses'][i]['definition']\n",
    "                    for j in range(len(vocab_dat)) for i in range(len(vocab_dat[j]['senses']))]\n",
    "    definitions = definitions[:5]\n",
    "    \n",
    "    # GET AUDIO URLS\n",
    "    try:\n",
    "        for i in range(len(data['entries'][0]['pronunciations'])):\n",
    "            try:\n",
    "                audio_url = data['entries'][0]['pronunciations'][i]['audio']['url']\n",
    "                break\n",
    "            except:\n",
    "                pass\n",
    "    except KeyError:\n",
    "        pass\n",
    "\n",
    "    # GET SYNONYMS\n",
    "    # try: If synonyms are not in Lingua Dictionary, output None\n",
    "    try:\n",
    "        synonyms = [vocab_dat[j]['synonymSets'][i]['synonyms']\n",
    "                    for j in range(len(vocab_dat)) for i in range(len(vocab_dat[j]['synonymSets']))]\n",
    "    except KeyError:\n",
    "        synonyms = None\n",
    "\n",
    "    # GET EXAMPLES\n",
    "    try:\n",
    "        examples = [vocab_dat[j]['senses'][i]['usageExamples']\n",
    "                    for j in range(len(vocab_dat)) for i in range(len(vocab_dat[j]['senses']))\n",
    "                    if 'usageExamples' in vocab_dat[j]['senses'][i].keys()]\n",
    "    except:\n",
    "        examples = None\n",
    "\n",
    "    \n",
    "examples"
   ]
  },
  {
   "cell_type": "code",
   "execution_count": 36,
   "metadata": {},
   "outputs": [
    {
     "data": {
      "text/plain": [
       "['https://encrypted-tbn0.gstatic.com/images?q=tbn:ANd9GcQcWDF3UUFU9ezTCrf-98n8b3HA8Eqo1IcwV6sQwHq_SNuijNaAI9Vnq-eNnBI&s',\n",
       " 'https://encrypted-tbn0.gstatic.com/images?q=tbn:ANd9GcSVmmGN5RZmqazx7UYKtbdYN3NccdUna2Iz7TZCjat0mmF6l3EDWO-KFActug&s',\n",
       " 'https://encrypted-tbn0.gstatic.com/images?q=tbn:ANd9GcRA8_cUi4zZu5WX8OrBzrM7Bwy_Eg1Io6J1unE5J364bhlALqH8Quh4FcXlcA&s']"
      ]
     },
     "execution_count": 36,
     "metadata": {},
     "output_type": "execute_result"
    }
   ],
   "source": [
    "def scrape_web_images(vocabulary):\n",
    "\n",
    "    # Perform a web search to get images related to the vocabulary\n",
    "    query = urllib.parse.quote(vocabulary)\n",
    "    search_url = f\"https://www.google.com/search?q={query}&tbm=isch\"\n",
    "\n",
    "    # Send a GET request to the search URL\n",
    "    response = requests.get(search_url)\n",
    "    response.raise_for_status()\n",
    "\n",
    "    # Parse the HTML content of the response\n",
    "    soup = BeautifulSoup(response.content, \"html.parser\")\n",
    "\n",
    "    # Find all image elements in the HTML\n",
    "    image_elements = soup.find_all(\"img\")\n",
    "\n",
    "    # Extract the image URLs from the image elements\n",
    "    image_urls = [img[\"src\"] for img in image_elements]\n",
    "\n",
    "    # Choose the first three image URLs\n",
    "    image_urls = image_urls[1:4]\n",
    "    \n",
    "    return image_urls\n",
    "\n",
    "images = scrape_web_images(\"Timid\")\n",
    "images"
   ]
  },
  {
   "cell_type": "code",
   "execution_count": 2,
   "metadata": {},
   "outputs": [
    {
     "name": "stdout",
     "output_type": "stream",
     "text": [
      "{'ok': True, 'channel': 'C02VDLCB52N', 'ts': '1684632047.858629', 'message': {'bot_id': 'B02UZ22GFJT', 'type': 'message', 'text': '*Vocabulary:* Timid :-1: button :neutral_face: button :+1: button', 'user': 'U02VDM8LRQT', 'ts': '1684632047.858629', 'app_id': 'A02V70E9P38', 'blocks': [{'type': 'section', 'block_id': 'O9fi', 'text': {'type': 'mrkdwn', 'text': '*Vocabulary:* Timid', 'verbatim': False}}, {'type': 'actions', 'block_id': 'IPQ9', 'elements': [{'type': 'button', 'action_id': 'FrccZ', 'text': {'type': 'plain_text', 'text': ':-1:', 'emoji': True}, 'value': 'confident'}, {'type': 'button', 'action_id': 'xj7', 'text': {'type': 'plain_text', 'text': ':neutral_face:', 'emoji': True}, 'value': 'neutral'}, {'type': 'button', 'action_id': 'ZRT+o', 'text': {'type': 'plain_text', 'text': ':+1:', 'emoji': True}, 'value': 'not_confident'}]}], 'team': 'T01MB5Z619S', 'bot_profile': {'id': 'B02UZ22GFJT', 'app_id': 'A02V70E9P38', 'name': 'vocab', 'icons': {'image_36': 'https://a.slack-edge.com/80588/img/plugins/app/bot_36.png', 'image_48': 'https://a.slack-edge.com/80588/img/plugins/app/bot_48.png', 'image_72': 'https://a.slack-edge.com/80588/img/plugins/app/service_72.png'}, 'deleted': False, 'updated': 1684630960, 'team_id': 'T01MB5Z619S'}}}\n"
     ]
    }
   ],
   "source": [
    "import os\n",
    "import json\n",
    "from slack_sdk import WebClient\n",
    "from slack_sdk.errors import SlackApiError\n",
    "from secret import slack_credentials\n",
    "\n",
    "slack_token = slack_credentials()\n",
    "client = WebClient(token=slack_token)\n",
    "\n",
    "def send_slack_message(channel_id, vocabulary_name):\n",
    "    try:\n",
    "        # Construct the Slack message blocks\n",
    "        blocks = [\n",
    "            {\n",
    "                \"type\": \"section\",\n",
    "                \"text\": {\n",
    "                    \"type\": \"mrkdwn\",\n",
    "                    \"text\": f\"*Vocabulary:* {vocabulary_name}\"\n",
    "                }\n",
    "            },\n",
    "            {\n",
    "                \"type\": \"actions\",\n",
    "                \"elements\": [\n",
    "                    {\n",
    "                        \"type\": \"button\",\n",
    "                        \"text\": {\n",
    "                            \"type\": \"plain_text\",\n",
    "                            \"text\": \"👎\"\n",
    "                        },\n",
    "                        \"value\": \"confident\"\n",
    "                    },\n",
    "                    {\n",
    "                        \"type\": \"button\",\n",
    "                        \"text\": {\n",
    "                            \"type\": \"plain_text\",\n",
    "                            \"text\": \"😐\"\n",
    "                        },\n",
    "                        \"value\": \"neutral\"\n",
    "                    },\n",
    "                    {\n",
    "                        \"type\": \"button\",\n",
    "                        \"text\": {\n",
    "                            \"type\": \"plain_text\",\n",
    "                            \"text\": \"👍\"\n",
    "                        },\n",
    "                        \"value\": \"not_confident\"\n",
    "                    }\n",
    "                ]\n",
    "            }\n",
    "        ]\n",
    "\n",
    "        # Send the Slack message\n",
    "        response = client.chat_postMessage(\n",
    "            channel=channel_id,\n",
    "            blocks=blocks\n",
    "        )\n",
    "\n",
    "        # Print the response from Slack API (optional)\n",
    "        print(response)\n",
    "\n",
    "    except SlackApiError as e:\n",
    "        print(e.response)\n",
    "        print(f\"Error sending Slack message: {e.response['error']}\")\n",
    "\n",
    "# Usage: Specify the channel ID and vocabulary name\n",
    "channel_id = \"C02VDLCB52N\"  # Replace with your channel ID\n",
    "vocabulary_name = \"Timid\"\n",
    "\n",
    "# Send the Slack message\n",
    "send_slack_message(channel_id, vocabulary_name)\n"
   ]
  }
 ],
 "metadata": {
  "kernelspec": {
   "display_name": "Python 3",
   "language": "python",
   "name": "python3"
  },
  "language_info": {
   "codemirror_mode": {
    "name": "ipython",
    "version": 3
   },
   "file_extension": ".py",
   "mimetype": "text/x-python",
   "name": "python",
   "nbconvert_exporter": "python",
   "pygments_lexer": "ipython3",
   "version": "3.9.12"
  },
  "orig_nbformat": 4
 },
 "nbformat": 4,
 "nbformat_minor": 2
}
