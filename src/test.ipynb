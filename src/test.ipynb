{
 "cells": [
  {
   "cell_type": "code",
   "execution_count": 49,
   "metadata": {},
   "outputs": [
    {
     "data": {
      "text/plain": [
       "1"
      ]
     },
     "execution_count": 49,
     "metadata": {},
     "output_type": "execute_result"
    }
   ],
   "source": [
    "from sqlalchemy import create_engine, Float, text\n",
    "from db_connections import con\n",
    "import datetime\n",
    "from datetime import timezone, datetime\n",
    "\n",
    "import pandas as pd\n",
    "\n",
    "\n",
    "# Execute the SQL query\n",
    "# result = con.execute(\"SELECT * FROM my_vocabs;\")\n",
    "\n",
    "# # Fetch all the rows from the query result\n",
    "# rows = result.fetchall()\n",
    "# rows = pd.DataFrame(rows, columns=[\"vocab\", \"exposure\", \"status\", \"img_url1\", \"img_url2\", \"img_url3\", \n",
    "#                                    \"created_at_utc\", \"memorized_at_utc\", \"confidence\", \"quizzed_count\",\n",
    "#                                    \"correct_count\", \"incorrect_count\", \"user_id\"])\n",
    "\n",
    "# split the vocab column by \" \" and get all the rows with length less than 5\n",
    "# rows = rows[rows['vocab'].str.split().str.len() < 5]\n",
    "\n",
    "# If there is \"_\" in vocab column, replace it with \" \"\n",
    "# rows['vocab'] = rows['vocab'].str.replace(\"_\", \" \")\n",
    "\n",
    "# users = con.execute(\"SELECT * FROM users;\")\n",
    "# users = users.fetchall()\n",
    "users = pd.DataFrame({\"user\": \"Andy Lee\", \"user_id\": \"C02VDLCB52N\", \"language\": \"English\", \"country\": \"United States\", \"created_at_utc\": datetime.now(timezone.utc), \"updated_at_utc\": datetime.now(timezone.utc)}, index=[0])\n",
    "\n",
    "users.to_sql('users', con=con, if_exists='replace', index=False)"
   ]
  },
  {
   "cell_type": "code",
   "execution_count": 37,
   "metadata": {},
   "outputs": [
    {
     "name": "stdout",
     "output_type": "stream",
     "text": [
      "love bug is not a valid word, and no close match was found.\n"
     ]
    }
   ],
   "source": [
    "import difflib\n",
    "import nltk\n",
    "from nltk.corpus import wordnet\n",
    "\n",
    "def is_valid_word(word):\n",
    "    if wordnet.synsets(word):\n",
    "        return True\n",
    "    return False\n",
    "\n",
    "def find_closest_word(word):\n",
    "    valid_words = set(wordnet.words())\n",
    "    closest_match = difflib.get_close_matches(word, valid_words, n=1, cutoff=0.8)\n",
    "    if closest_match:\n",
    "        return closest_match[0]\n",
    "    return None\n",
    "\n",
    "# Example usage\n",
    "input_word = input(\"Enter a word: \")\n",
    "\n",
    "if is_valid_word(input_word):\n",
    "    print(f\"{input_word} is a valid word.\")\n",
    "else:\n",
    "    closest_word = find_closest_word(input_word)\n",
    "    if closest_word:\n",
    "        print(f\"{input_word} is not a valid word. Did you mean {closest_word}?\")\n",
    "    else:\n",
    "        print(f\"{input_word} is not a valid word, and no close match was found.\")\n"
   ]
  },
  {
   "cell_type": "code",
   "execution_count": 50,
   "metadata": {},
   "outputs": [
    {
     "name": "stderr",
     "output_type": "stream",
     "text": [
      "/Users/andylee/opt/anaconda3/lib/python3.9/site-packages/slack_sdk/web/internal_utils.py:290: UserWarning: The top-level `text` argument is missing in the request payload for a chat.postMessage call - It's a best practice to always provide a `text` argument when posting a message. The `text` argument is used in places where content cannot be rendered such as: system push notifications, assistive technology such as screen readers, etc.\n",
      "  warnings.warn(missing_text_message, UserWarning)\n"
     ]
    },
    {
     "name": "stdout",
     "output_type": "stream",
     "text": [
      "{'ok': True, 'channel': 'C02VDLCB52N', 'ts': '1684715595.502829', 'message': {'bot_id': 'B02UZ22GFJT', 'type': 'message', 'text': '*Vocabulary:* Timid :-1: button :neutral_face: button :+1: button', 'user': 'U02VDM8LRQT', 'ts': '1684715595.502829', 'app_id': 'A02V70E9P38', 'blocks': [{'type': 'section', 'block_id': 'oJwZy', 'text': {'type': 'mrkdwn', 'text': '*Vocabulary:* Timid', 'verbatim': False}}, {'type': 'actions', 'block_id': 'SBr', 'elements': [{'type': 'button', 'action_id': 'wjJAU', 'text': {'type': 'plain_text', 'text': ':-1:', 'emoji': True}, 'value': 'confident'}, {'type': 'button', 'action_id': 'NEI', 'text': {'type': 'plain_text', 'text': ':neutral_face:', 'emoji': True}, 'value': 'neutral'}, {'type': 'button', 'action_id': 'GSEn1', 'text': {'type': 'plain_text', 'text': ':+1:', 'emoji': True}, 'value': 'not_confident'}]}], 'team': 'T01MB5Z619S', 'bot_profile': {'id': 'B02UZ22GFJT', 'app_id': 'A02V70E9P38', 'name': 'vocab', 'icons': {'image_36': 'https://a.slack-edge.com/80588/img/plugins/app/bot_36.png', 'image_48': 'https://a.slack-edge.com/80588/img/plugins/app/bot_48.png', 'image_72': 'https://a.slack-edge.com/80588/img/plugins/app/service_72.png'}, 'deleted': False, 'updated': 1684633630, 'team_id': 'T01MB5Z619S'}}}\n"
     ]
    }
   ],
   "source": [
    "import os\n",
    "import json\n",
    "from slack_sdk import WebClient\n",
    "from slack_sdk.errors import SlackApiError\n",
    "from secret import slack_credentials\n",
    "\n",
    "slack_token = slack_credentials()\n",
    "client = WebClient(token=slack_token)\n",
    "\n",
    "def send_slack_message(channel_id, vocabulary_name):\n",
    "    try:\n",
    "        # Construct the Slack message blocks\n",
    "        blocks = [\n",
    "            {\n",
    "                \"type\": \"section\",\n",
    "                \"text\": {\n",
    "                    \"type\": \"mrkdwn\",\n",
    "                    \"text\": f\"*Vocabulary:* {vocabulary_name}\"\n",
    "                }\n",
    "            },\n",
    "            {\n",
    "                \"type\": \"actions\",\n",
    "                \"elements\": [\n",
    "                    {\n",
    "                        \"type\": \"button\",\n",
    "                        \"text\": {\n",
    "                            \"type\": \"plain_text\",\n",
    "                            \"text\": \"👎\"\n",
    "                        },\n",
    "                        \"value\": \"confident\"\n",
    "                    },\n",
    "                    {\n",
    "                        \"type\": \"button\",\n",
    "                        \"text\": {\n",
    "                            \"type\": \"plain_text\",\n",
    "                            \"text\": \"😐\"\n",
    "                        },\n",
    "                        \"value\": \"neutral\"\n",
    "                    },\n",
    "                    {\n",
    "                        \"type\": \"button\",\n",
    "                        \"text\": {\n",
    "                            \"type\": \"plain_text\",\n",
    "                            \"text\": \"👍\"\n",
    "                        },\n",
    "                        \"value\": \"not_confident\"\n",
    "                    }\n",
    "                ]\n",
    "            }\n",
    "        ]\n",
    "\n",
    "        # Send the Slack message\n",
    "        response = client.chat_postMessage(\n",
    "            channel=channel_id,\n",
    "            blocks=blocks\n",
    "        )\n",
    "\n",
    "        # Print the response from Slack API (optional)\n",
    "        print(response)\n",
    "\n",
    "    except SlackApiError as e:\n",
    "        print(e.response)\n",
    "        print(f\"Error sending Slack message: {e.response['error']}\")\n",
    "\n",
    "# Usage: Specify the channel ID and vocabulary name\n",
    "channel_id = \"C02VDLCB52N\"  # Replace with your channel ID\n",
    "vocabulary_name = \"Timid\"\n",
    "\n",
    "# Send the Slack message\n",
    "send_slack_message(channel_id, vocabulary_name)\n"
   ]
  },
  {
   "cell_type": "code",
   "execution_count": 19,
   "metadata": {},
   "outputs": [
    {
     "name": "stdout",
     "output_type": "stream",
     "text": [
      "[{'actions': [{'action_id': 'zYp', 'action_ts': '1684638324.967756', 'block_id': 'QsX', 'text': {'emoji': True, 'text': ':+1:', 'type': 'plain_text'}, 'type': 'button', 'value': 'not_confident'}], 'api_app_id': 'A02V70E9P38', 'channel': {'id': 'C02VDLCB52N', 'name': 'vocab_practice'}, 'container': {'channel_id': 'C02VDLCB52N', 'is_ephemeral': False, 'message_ts': '1684636205.314459', 'type': 'message'}, 'enterprise': None, 'is_enterprise_install': False, 'message': {'app_id': 'A02V70E9P38', 'blocks': [{'block_id': 'gY=l', 'text': {'text': '*Vocabulary:* Timid', 'type': 'mrkdwn', 'verbatim': False}, 'type': 'section'}, {'block_id': 'QsX', 'elements': [{'action_id': 'tbGn', 'text': {'emoji': True, 'text': ':-1:', 'type': 'plain_text'}, 'type': 'button', 'value': 'confident'}, {'action_id': 'AgMB', 'text': {'emoji': True, 'text': ':neutral_face:', 'type': 'plain_text'}, 'type': 'button', 'value': 'neutral'}, {'action_id': 'zYp', 'text': {'emoji': True, 'text': ':+1:', 'type': 'plain_text'}, 'type': 'button', 'value': 'not_confident'}], 'type': 'actions'}], 'bot_id': 'B02UZ22GFJT', 'team': 'T01MB5Z619S', 'text': '*Vocabulary:* Timid :-1: button :neutral_face: button :+1: button', 'ts': '1684636205.314459', 'type': 'message', 'user': 'U02VDM8LRQT'}, 'response_url': 'https://hooks.slack.com/actions/T01MB5Z619S/5321142688064/GX5ILVr1E5J1R4CrxhD8yRHQ', 'state': {'values': {}}, 'team': {'domain': 'andy-sb74228', 'id': 'T01MB5Z619S'}, 'token': 'wnlwwEEjoLYbQWJ1RgDDgSGn', 'trigger_id': '5299932811172.1725203205332.9906ea1d149fa3824df5b3df1e363002', 'type': 'block_actions', 'user': {'id': 'U01LY7PF86S', 'name': 'anddy0622', 'team_id': 'T01MB5Z619S', 'username': 'anddy0622'}}, {'actions': [{'action_id': 'zYp', 'action_ts': '1684638336.410098', 'block_id': 'QsX', 'text': {'emoji': True, 'text': ':+1:', 'type': 'plain_text'}, 'type': 'button', 'value': 'not_confident'}], 'api_app_id': 'A02V70E9P38', 'channel': {'id': 'C02VDLCB52N', 'name': 'vocab_practice'}, 'container': {'channel_id': 'C02VDLCB52N', 'is_ephemeral': False, 'message_ts': '1684636205.314459', 'type': 'message'}, 'enterprise': None, 'is_enterprise_install': False, 'message': {'app_id': 'A02V70E9P38', 'blocks': [{'block_id': 'gY=l', 'text': {'text': '*Vocabulary:* Timid', 'type': 'mrkdwn', 'verbatim': False}, 'type': 'section'}, {'block_id': 'QsX', 'elements': [{'action_id': 'tbGn', 'text': {'emoji': True, 'text': ':-1:', 'type': 'plain_text'}, 'type': 'button', 'value': 'confident'}, {'action_id': 'AgMB', 'text': {'emoji': True, 'text': ':neutral_face:', 'type': 'plain_text'}, 'type': 'button', 'value': 'neutral'}, {'action_id': 'zYp', 'text': {'emoji': True, 'text': ':+1:', 'type': 'plain_text'}, 'type': 'button', 'value': 'not_confident'}], 'type': 'actions'}], 'bot_id': 'B02UZ22GFJT', 'team': 'T01MB5Z619S', 'text': '*Vocabulary:* Timid :-1: button :neutral_face: button :+1: button', 'ts': '1684636205.314459', 'type': 'message', 'user': 'U02VDM8LRQT'}, 'response_url': 'https://hooks.slack.com/actions/T01MB5Z619S/5294500112981/JG4IKDl9HJPGFMZCuuU3sKxh', 'state': {'values': {}}, 'team': {'domain': 'andy-sb74228', 'id': 'T01MB5Z619S'}, 'token': 'wnlwwEEjoLYbQWJ1RgDDgSGn', 'trigger_id': '5321142869024.1725203205332.5c01634533aec282f7f95fc37607e547', 'type': 'block_actions', 'user': {'id': 'U01LY7PF86S', 'name': 'anddy0622', 'team_id': 'T01MB5Z619S', 'username': 'anddy0622'}}, {'actions': [{'action_id': 'tbGn', 'action_ts': '1684638432.508820', 'block_id': 'QsX', 'text': {'emoji': True, 'text': ':-1:', 'type': 'plain_text'}, 'type': 'button', 'value': 'confident'}], 'api_app_id': 'A02V70E9P38', 'channel': {'id': 'C02VDLCB52N', 'name': 'vocab_practice'}, 'container': {'channel_id': 'C02VDLCB52N', 'is_ephemeral': False, 'message_ts': '1684636205.314459', 'type': 'message'}, 'enterprise': None, 'is_enterprise_install': False, 'message': {'app_id': 'A02V70E9P38', 'blocks': [{'block_id': 'gY=l', 'text': {'text': '*Vocabulary:* Timid', 'type': 'mrkdwn', 'verbatim': False}, 'type': 'section'}, {'block_id': 'QsX', 'elements': [{'action_id': 'tbGn', 'text': {'emoji': True, 'text': ':-1:', 'type': 'plain_text'}, 'type': 'button', 'value': 'confident'}, {'action_id': 'AgMB', 'text': {'emoji': True, 'text': ':neutral_face:', 'type': 'plain_text'}, 'type': 'button', 'value': 'neutral'}, {'action_id': 'zYp', 'text': {'emoji': True, 'text': ':+1:', 'type': 'plain_text'}, 'type': 'button', 'value': 'not_confident'}], 'type': 'actions'}], 'bot_id': 'B02UZ22GFJT', 'team': 'T01MB5Z619S', 'text': '*Vocabulary:* Timid :-1: button :neutral_face: button :+1: button', 'ts': '1684636205.314459', 'type': 'message', 'user': 'U02VDM8LRQT'}, 'response_url': 'https://hooks.slack.com/actions/T01MB5Z619S/5290835663894/vWsUKXvKxAq72pX5mHYHc8Y2', 'state': {'values': {}}, 'team': {'domain': 'andy-sb74228', 'id': 'T01MB5Z619S'}, 'token': 'wnlwwEEjoLYbQWJ1RgDDgSGn', 'trigger_id': '5294501570229.1725203205332.05660a276926f2276ec41e8fe21e4935', 'type': 'block_actions', 'user': {'id': 'U01LY7PF86S', 'name': 'anddy0622', 'team_id': 'T01MB5Z619S', 'username': 'anddy0622'}}, {'actions': [{'action_id': 'tbGn', 'action_ts': '1684638450.070200', 'block_id': 'QsX', 'text': {'emoji': True, 'text': ':-1:', 'type': 'plain_text'}, 'type': 'button', 'value': 'confident'}], 'api_app_id': 'A02V70E9P38', 'channel': {'id': 'C02VDLCB52N', 'name': 'vocab_practice'}, 'container': {'channel_id': 'C02VDLCB52N', 'is_ephemeral': False, 'message_ts': '1684636205.314459', 'type': 'message'}, 'enterprise': None, 'is_enterprise_install': False, 'message': {'app_id': 'A02V70E9P38', 'blocks': [{'block_id': 'gY=l', 'text': {'text': '*Vocabulary:* Timid', 'type': 'mrkdwn', 'verbatim': False}, 'type': 'section'}, {'block_id': 'QsX', 'elements': [{'action_id': 'tbGn', 'text': {'emoji': True, 'text': ':-1:', 'type': 'plain_text'}, 'type': 'button', 'value': 'confident'}, {'action_id': 'AgMB', 'text': {'emoji': True, 'text': ':neutral_face:', 'type': 'plain_text'}, 'type': 'button', 'value': 'neutral'}, {'action_id': 'zYp', 'text': {'emoji': True, 'text': ':+1:', 'type': 'plain_text'}, 'type': 'button', 'value': 'not_confident'}], 'type': 'actions'}], 'bot_id': 'B02UZ22GFJT', 'team': 'T01MB5Z619S', 'text': '*Vocabulary:* Timid :-1: button :neutral_face: button :+1: button', 'ts': '1684636205.314459', 'type': 'message', 'user': 'U02VDM8LRQT'}, 'response_url': 'https://hooks.slack.com/actions/T01MB5Z619S/5282906190455/i2VO2hX65yXVvD0FxyZ7DhmJ', 'state': {'values': {}}, 'team': {'domain': 'andy-sb74228', 'id': 'T01MB5Z619S'}, 'token': 'wnlwwEEjoLYbQWJ1RgDDgSGn', 'trigger_id': '5294501835013.1725203205332.096bca6aa4fdb75ebd8cf990b3dbf2c9', 'type': 'block_actions', 'user': {'id': 'U01LY7PF86S', 'name': 'anddy0622', 'team_id': 'T01MB5Z619S', 'username': 'anddy0622'}}]\n",
      "Text: *Vocabulary:* Timid :-1: button :neutral_face: button :+1: button\n",
      "Button Clicked: :+1:\n",
      "Timestamp: 1684638324.967756\n",
      "User: anddy0622\n",
      "Text: *Vocabulary:* Timid :-1: button :neutral_face: button :+1: button\n",
      "Button Clicked: :+1:\n",
      "Timestamp: 1684638336.410098\n",
      "User: anddy0622\n",
      "Text: *Vocabulary:* Timid :-1: button :neutral_face: button :+1: button\n",
      "Button Clicked: :-1:\n",
      "Timestamp: 1684638432.508820\n",
      "User: anddy0622\n",
      "Text: *Vocabulary:* Timid :-1: button :neutral_face: button :+1: button\n",
      "Button Clicked: :-1:\n",
      "Timestamp: 1684638450.070200\n",
      "User: anddy0622\n"
     ]
    }
   ],
   "source": [
    "import requests\n",
    "\n",
    "# Make a GET request to the /payloads endpoint\n",
    "response = requests.get('http://199.241.139.206:8080/payloads')\n",
    "\n",
    "# Check if the request was successful (status code 200)\n",
    "if response.status_code == 200:\n",
    "    # Extract the payloads from the response\n",
    "    payloads = response.json()\n",
    "    print(payloads)\n",
    "\n",
    "    # Process the payloads as needed\n",
    "    for payload in payloads:\n",
    "        # Extract the necessary data from the payload\n",
    "        text = payload.get('message', {}).get('text', '')\n",
    "        button_clicked = payload.get('actions', [{}])[0].get('text', {}).get('text', '')\n",
    "        timestamp = payload.get('actions', [{}])[0].get('action_ts', '')\n",
    "        user = payload.get('user', {}).get('username', '')\n",
    "\n",
    "        # Process the extracted data\n",
    "        print(f\"Text: {text}\")\n",
    "        print(f\"Button Clicked: {button_clicked}\")\n",
    "        print(f\"Timestamp: {timestamp}\")\n",
    "        print(f\"User: {user}\")\n",
    "else:\n",
    "    # Request was not successful, handle the error\n",
    "    print(f\"Error: {response.status_code}\")\n"
   ]
  },
  {
   "cell_type": "code",
   "execution_count": 19,
   "metadata": {},
   "outputs": [
    {
     "name": "stdout",
     "output_type": "stream",
     "text": [
      "None\n"
     ]
    }
   ],
   "source": [
    "from secret import lingua_credentials\n",
    "import requests, json\n",
    "vocab = 'costa rica'\n",
    "url = \"https://lingua-robot.p.rapidapi.com/language/v1/entries/en/\" + \\\n",
    "    vocab.lower().strip(' ')\n",
    "\n",
    "headers = {\n",
    "    \"X-RapidAPI-Key\": lingua_credentials(),\n",
    "    \"X-RapidAPI-Host\": \"lingua-robot.p.rapidapi.com\"\n",
    "}\n",
    "\n",
    "# Request Data\n",
    "response = requests.request(\"GET\", url, headers=headers)\n",
    "data = json.loads(response.text)\n",
    "\n",
    "def extract_audio_url(json_data):\n",
    "    \n",
    "    try:\n",
    "        json_data = data['entries']\n",
    "        for entry in json_data:\n",
    "            pronunciations = entry.get('pronunciations', [])\n",
    "            for pronunciation in pronunciations:\n",
    "                audio = pronunciation.get('audio')\n",
    "                if audio:\n",
    "                    return audio['url']\n",
    "    except IndexError:\n",
    "        return None\n",
    "    return None\n",
    "\n",
    "a = extract_audio_url(data)\n",
    "print(a)"
   ]
  }
 ],
 "metadata": {
  "kernelspec": {
   "display_name": "Python 3",
   "language": "python",
   "name": "python3"
  },
  "language_info": {
   "codemirror_mode": {
    "name": "ipython",
    "version": 3
   },
   "file_extension": ".py",
   "mimetype": "text/x-python",
   "name": "python",
   "nbconvert_exporter": "python",
   "pygments_lexer": "ipython3",
   "version": "3.9.12"
  },
  "orig_nbformat": 4
 },
 "nbformat": 4,
 "nbformat_minor": 2
}
